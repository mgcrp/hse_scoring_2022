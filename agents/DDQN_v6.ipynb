{
  "cells": [
    {
      "cell_type": "code",
      "source": [
        "from google.colab import drive\n",
        "drive.mount('/content/drive')"
      ],
      "metadata": {
        "colab": {
          "base_uri": "https://localhost:8080/",
          "height": 0
        },
        "id": "vRyuz2DMosDJ",
        "outputId": "c5461c7b-aeef-4983-b064-1fc2f9b054cb"
      },
      "execution_count": 1,
      "outputs": [
        {
          "output_type": "stream",
          "name": "stdout",
          "text": [
            "Mounted at /content/drive\n"
          ]
        }
      ]
    },
    {
      "cell_type": "code",
      "source": [
        "!cp drive/MyDrive/data_for_env.csv.zip data_for_env.csv.zip"
      ],
      "metadata": {
        "id": "jHmAAYTAo54-"
      },
      "execution_count": 2,
      "outputs": []
    },
    {
      "cell_type": "code",
      "source": [
        "!unzip data_for_env.csv.zip"
      ],
      "metadata": {
        "colab": {
          "base_uri": "https://localhost:8080/",
          "height": 0
        },
        "id": "0w8HXq4UpCoA",
        "outputId": "4c970038-6b48-44b5-dd74-eefa3b3d63bb"
      },
      "execution_count": 3,
      "outputs": [
        {
          "output_type": "stream",
          "name": "stdout",
          "text": [
            "Archive:  data_for_env.csv.zip\n",
            "  inflating: data_for_env.csv        \n",
            "  inflating: __MACOSX/._data_for_env.csv  \n"
          ]
        }
      ]
    },
    {
      "cell_type": "code",
      "execution_count": 82,
      "metadata": {
        "id": "_pFipEW4lzfK"
      },
      "outputs": [],
      "source": [
        "############## ENV IMPORTS ##############\n",
        "import random\n",
        "import pandas as pd\n",
        "############## GYM IMPORTS ##############\n",
        "import gym\n",
        "from gym.utils import seeding\n",
        "from gym import error, spaces, utils\n",
        "################ SETTINGS ################\n",
        "DATA_PATH = 'data_for_env.csv'\n",
        "LDG = 1\n",
        "DEFAULT_MONTH_MIN = 3\n",
        "############ DISABLE WARNINGS ############\n",
        "import warnings\n",
        "\n",
        "warnings.filterwarnings('ignore')\n",
        "##########################################\n",
        "\n",
        "\n",
        "class ScoringBasicEnv(gym.Env):\n",
        "    \"\"\"Среда, имитирующая работу банка с заданной отсечкой по score.\n",
        "    Разработана с использованием фреймворка OpenAI Gym\n",
        "    Variables:\n",
        "        * env_mode [string] Режим отсечения, с которым работает среда\n",
        "            'score' - score >= action\n",
        "            'pd' - default_probability <= action\n",
        "        * env_reward [string] Режим вознаграждения, с которым работает среда\n",
        "            'score' - score >= action\n",
        "            'pd' - default_probability <= action\n",
        "        * data [pd.DataFrame] Отскоренные заявки клиентов\n",
        "        * minYear [int] Год начала симуляции\n",
        "        * minMonth [int] Месяц начала симуляции\n",
        "        * maxYear [int] Год окончания симуляции\n",
        "        * maxYear [int] Месяц начала симуляции\n",
        "        * currYear [int] Текущий год\n",
        "        * currMonth [int] Текущий месяц\n",
        "        * state_hist [list(float)] История acceptance rate для симуляции\n",
        "        * action_hist [list(float)] История действий агента в симуляции\n",
        "        * reward_hist [list(float)] История вознаграждений агента в симуляции\n",
        "        * reward_horizon [list(float)] Горизонт отложенных вознаграждений агента\n",
        "    Methods:\n",
        "        * step(self, action)\n",
        "        * reset(self)\n",
        "        * render(self, mode='human')\n",
        "        * close(self)\n",
        "    \"\"\"\n",
        "\n",
        "    metadata = {'render.modes': ['human']}\n",
        "\n",
        "    def __init__(self, mode='score', reward='delayed', maxYear=None, maxMonth=None):\n",
        "        \"\"\"Стандартная инициализация среды\n",
        "        Args:\n",
        "            mode:\n",
        "                [string] 'score' or 'pd'\n",
        "                The type of action threshold\n",
        "            reward:\n",
        "                [string] 'immediate' or 'delayed'\n",
        "                The type of return policy\n",
        "            maxYear:\n",
        "                [optional, int]\n",
        "            maxMonth:\n",
        "                [optional, int]\n",
        "        Returns:\n",
        "            None\n",
        "        \"\"\"\n",
        "\n",
        "        # mode must be 'score' or 'pd'\n",
        "        self.env_mode = mode\n",
        "        # mode must be 'immediate' or 'delayed'\n",
        "        self.env_reward = reward\n",
        "\n",
        "        self.data = pd.read_csv(DATA_PATH)\n",
        "        self.data.issue_d = pd.to_datetime(self.data.issue_d)\n",
        "        self.data.term = self.data.term.replace({1: 36, 2: 60})\n",
        "        self.data['tmp_year'] = self.data.issue_d.dt.year\n",
        "        self.data['tmp_month'] = self.data.issue_d.dt.month\n",
        "        self.data['interest_val'] = self.data.funded_amnt / (\n",
        "            self.data.int_rate + self.data.int_rate /\n",
        "            (((1 + self.data.int_rate)**self.data.term) - 1) * self.data.term)\n",
        "\n",
        "        self.minYear = self.data.tmp_year.min()\n",
        "        self.minMonth = self.data[self.data.tmp_year ==\n",
        "                                  self.minYear].tmp_month.min()\n",
        "        if maxYear is None:\n",
        "            self.maxYear = self.data.tmp_year.max()\n",
        "        else:\n",
        "            self.maxYear = maxYear\n",
        "        if maxMonth is None:\n",
        "            self.maxMonth = self.data[self.data.tmp_year == self.maxYear].tmp_month.max()\n",
        "        else:\n",
        "            self.maxMonth = maxMonth\n",
        "\n",
        "        self.currYear = None\n",
        "        self.currMonth = None\n",
        "        self.state_hist = None\n",
        "        self.action_hist = None\n",
        "        self.reward_hist = None\n",
        "        self.reward_horizon = None\n",
        "\n",
        "    def step(self, action):\n",
        "        \"\"\"Осуществляет один шаг среды\n",
        "        Args:\n",
        "            action:\n",
        "                [float] Threshold value\n",
        "        Returns:\n",
        "            observation:\n",
        "                [float] acceptance rate за неделю\n",
        "            reward:\n",
        "                [float] значение reward\n",
        "            is_done:\n",
        "                [bool] флаг того, что цикл закончился\n",
        "            metadata:\n",
        "                [dict] дополнительные метаданные; по-умолчанию - {}\n",
        "        \"\"\"\n",
        "\n",
        "        if self.currYear <= self.maxYear or (self.currYear == self.maxYear and self.currMonth <= self.maxMonth):\n",
        "            print(f'making step: {self.currYear}.{self.currMonth}')\n",
        "            df_tmp = self.data[(self.data.tmp_year == self.currYear)\n",
        "                               & (self.data.tmp_month == self.currMonth)]\n",
        "\n",
        "            if self.env_mode == 'score':\n",
        "                df_tmp['accepted'] = df_tmp.score_cat.apply(\n",
        "                    lambda x: 1 if x >= action else 0)\n",
        "            elif self.env_mode == 'pd':\n",
        "                df_tmp['accepted'] = df_tmp.predict_cat.apply(\n",
        "                    lambda x: 1 if x <= action else 0)\n",
        "\n",
        "            immediate = 0\n",
        "\n",
        "            for _, row in df_tmp[df_tmp.accepted == 1].iterrows():\n",
        "                if row.target == 1:\n",
        "                    # default\n",
        "                    if self.env_reward == 'immediate':\n",
        "                        immediate -= row.funded_amnt * LDG\n",
        "                    else:\n",
        "                        self.reward_horizon[random.randint(\n",
        "                            DEFAULT_MONTH_MIN, row.term)] -= row.funded_amnt * LDG\n",
        "                elif row.target == 0:\n",
        "                    # success\n",
        "                    if self.env_reward == 'immediate':\n",
        "                        immediate += row.interest_val\n",
        "                    else:\n",
        "                        self.reward_horizon[row.term] += row.interest_val\n",
        "\n",
        "            new_state = df_tmp.accepted.sum() / df_tmp.accepted.count()\n",
        "\n",
        "            if self.env_reward == 'immediate':\n",
        "                reward = immediate\n",
        "            else:\n",
        "                reward = self.reward_horizon.pop(0)\n",
        "                self.reward_horizon.append(0)\n",
        "\n",
        "            self.state_hist.append(new_state)\n",
        "            self.action_hist.append(action)\n",
        "            self.reward_hist.append(reward)\n",
        "\n",
        "            self.currMonth = 1 if self.currMonth == 12 else self.currMonth + 1\n",
        "            self.currYear = self.currYear if self.currMonth != 1 else self.currYear + 1\n",
        "\n",
        "            if self.currMonth == self.maxMonth and self.currYear == self.maxYear and self.env_reward == 'immediate':\n",
        "                return new_state, reward, True, {}\n",
        "            \n",
        "            return new_state, reward, False, {}\n",
        "        elif len(self.reward_horizon) > 0 and self.env_reward != 'immediate':\n",
        "            print(f'extra step')\n",
        "            return 0, self.reward_horizon.pop(0), len(\n",
        "                self.reward_horizon) == 0, {}\n",
        "\n",
        "    def reset(self, minYear=None, minMonth=None):\n",
        "        \"\"\"Сброс среды к начальному состоянию\n",
        "        Возвращает первый observation\n",
        "        Args:\n",
        "            minYear\n",
        "                [optional, int] a year to start\n",
        "            minMonth\n",
        "                [optional, int] a month to start\n",
        "        Returns:\n",
        "            observation:\n",
        "                [float] acceptance rate за неделю\n",
        "            reward:\n",
        "                [float] значение reward\n",
        "            is_done:\n",
        "                [bool] флаг того, что цикл закончился\n",
        "            metadata:\n",
        "                [dict] дополнительные метаданные; по-умолчанию - {}\n",
        "        \"\"\"\n",
        "        if minYear is None:\n",
        "            self.currYear = self.minYear\n",
        "        else:\n",
        "            self.currYear = minYear\n",
        "        if minMonth is None:\n",
        "            self.currMonth = self.data[self.data.tmp_year == self.currYear].tmp_month.min()\n",
        "        else:\n",
        "            self.currMonth = minMonth\n",
        "\n",
        "        self.state_hist = [0]\n",
        "        self.action_hist = [0]\n",
        "        self.reward_hist = [0]\n",
        "        self.reward_horizon = [0] * 61\n",
        "\n",
        "        return 0, 0, False, {}\n",
        "\n",
        "    def render(self, mode='human'):\n",
        "        \"\"\"Вывод информации о текущем состоянии среды\n",
        "        Args:\n",
        "            mode:\n",
        "                [string] human (default для OpenAI Gym)\n",
        "        Returns:\n",
        "            None\n",
        "        \"\"\"\n",
        "        print(f'''\n",
        "            ------ {self.currMonth}.{self.currYear} ------\n",
        "            Prev. Action\\t{self.action_hist[-1]}\n",
        "            Prev. State\\t\\t{self.state_hist[-2]}\n",
        "            New state\\t\\t{self.state_hist[-1]}\n",
        "            Reward\\t\\t{self.reward_hist[-1]}\n",
        "        ''')\n",
        "\n",
        "    def close(self):\n",
        "        \"\"\"Выключение среды\n",
        "        Метод есть в документации OpenAI Gym, но реализован даже не во всех их средах.\n",
        "        Args:\n",
        "            None\n",
        "        Returns:\n",
        "            None\n",
        "        \"\"\"\n",
        "\n",
        "        pass\n"
      ]
    },
    {
      "cell_type": "markdown",
      "source": [
        "<h3>Инициализируем среды</h3>\n",
        "\n",
        "**Вопрос** - а почему так?\n",
        "\n",
        "Конец наблюдений - декабрь 2018. Там очень сильно падает доля дефолтов, потому что они не разведаны. Поэтому:\n",
        "  * Train - 06.2007-12.2017\n",
        "  * Test  - 01.2018-06.2018 "
      ],
      "metadata": {
        "id": "8adparorBueT"
      }
    },
    {
      "cell_type": "code",
      "execution_count": 84,
      "metadata": {
        "colab": {
          "base_uri": "https://localhost:8080/",
          "height": 0
        },
        "id": "BU7ck8QjlzfM",
        "outputId": "cd2c055b-9a60-4dc0-d285-2457cad896a4"
      },
      "outputs": [
        {
          "output_type": "stream",
          "name": "stdout",
          "text": [
            "CPU times: user 43.2 s, sys: 4.5 s, total: 47.7 s\n",
            "Wall time: 47.6 s\n"
          ]
        }
      ],
      "source": [
        "%%time\n",
        "env_train = ScoringBasicEnv(reward='delayed', maxYear=2017, maxMonth=12)\n",
        "env_test = ScoringBasicEnv(reward='delayed', maxYear=2018, maxMonth=6)"
      ]
    },
    {
      "cell_type": "code",
      "source": [
        "env_train.data.shape, env_test.data.shape"
      ],
      "metadata": {
        "colab": {
          "base_uri": "https://localhost:8080/",
          "height": 0
        },
        "id": "GRR4wPbQnsij",
        "outputId": "1e8eac6d-58f1-4abb-aba3-19513cc1ce56"
      },
      "execution_count": 85,
      "outputs": [
        {
          "output_type": "execute_result",
          "data": {
            "text/plain": [
              "((2260668, 60), (2260668, 60))"
            ]
          },
          "metadata": {},
          "execution_count": 85
        }
      ]
    },
    {
      "cell_type": "markdown",
      "source": [
        "<h3>Best constant</h3>\n",
        "\n",
        "Лучшее константное предсказание на Train мы посчитали еще на этапе скоринга<br>\n",
        "Посмотрим, как оно перформит на Train и Test, и будем использовать это как бэнчмарк"
      ],
      "metadata": {
        "id": "pY9WuIE7DJLx"
      }
    },
    {
      "cell_type": "code",
      "source": [
        "%%time\n",
        "\n",
        "prev_state, reward, done, _ = env_train.reset()\n",
        "while True:\n",
        "    # Recieve state and reward from environment.\n",
        "    state, reward, done, _ = env_train.step( 570 )\n",
        "    \n",
        "    # End this episode when `done` is True\n",
        "    if done:\n",
        "        break"
      ],
      "metadata": {
        "colab": {
          "base_uri": "https://localhost:8080/",
          "height": 0
        },
        "id": "aOu_zI78DIRd",
        "outputId": "39cc7daa-ac93-448e-c21c-9532853aed97"
      },
      "execution_count": 86,
      "outputs": [
        {
          "output_type": "stream",
          "name": "stdout",
          "text": [
            "making step: 2007.6\n",
            "making step: 2007.7\n",
            "making step: 2007.8\n",
            "making step: 2007.9\n",
            "making step: 2007.10\n",
            "making step: 2007.11\n",
            "making step: 2007.12\n",
            "making step: 2008.1\n",
            "making step: 2008.2\n",
            "making step: 2008.3\n",
            "making step: 2008.4\n",
            "making step: 2008.5\n",
            "making step: 2008.6\n",
            "making step: 2008.7\n",
            "making step: 2008.8\n",
            "making step: 2008.9\n",
            "making step: 2008.10\n",
            "making step: 2008.11\n",
            "making step: 2008.12\n",
            "making step: 2009.1\n",
            "making step: 2009.2\n",
            "making step: 2009.3\n",
            "making step: 2009.4\n",
            "making step: 2009.5\n",
            "making step: 2009.6\n",
            "making step: 2009.7\n",
            "making step: 2009.8\n",
            "making step: 2009.9\n",
            "making step: 2009.10\n",
            "making step: 2009.11\n",
            "making step: 2009.12\n",
            "making step: 2010.1\n",
            "making step: 2010.2\n",
            "making step: 2010.3\n",
            "making step: 2010.4\n",
            "making step: 2010.5\n",
            "making step: 2010.6\n",
            "making step: 2010.7\n",
            "making step: 2010.8\n",
            "making step: 2010.9\n",
            "making step: 2010.10\n",
            "making step: 2010.11\n",
            "making step: 2010.12\n",
            "making step: 2011.1\n",
            "making step: 2011.2\n",
            "making step: 2011.3\n",
            "making step: 2011.4\n",
            "making step: 2011.5\n",
            "making step: 2011.6\n",
            "making step: 2011.7\n",
            "making step: 2011.8\n",
            "making step: 2011.9\n",
            "making step: 2011.10\n",
            "making step: 2011.11\n",
            "making step: 2011.12\n",
            "making step: 2012.1\n",
            "making step: 2012.2\n",
            "making step: 2012.3\n",
            "making step: 2012.4\n",
            "making step: 2012.5\n",
            "making step: 2012.6\n",
            "making step: 2012.7\n",
            "making step: 2012.8\n",
            "making step: 2012.9\n",
            "making step: 2012.10\n",
            "making step: 2012.11\n",
            "making step: 2012.12\n",
            "making step: 2013.1\n",
            "making step: 2013.2\n",
            "making step: 2013.3\n",
            "making step: 2013.4\n",
            "making step: 2013.5\n",
            "making step: 2013.6\n",
            "making step: 2013.7\n",
            "making step: 2013.8\n",
            "making step: 2013.9\n",
            "making step: 2013.10\n",
            "making step: 2013.11\n",
            "making step: 2013.12\n",
            "making step: 2014.1\n",
            "making step: 2014.2\n",
            "making step: 2014.3\n",
            "making step: 2014.4\n",
            "making step: 2014.5\n",
            "making step: 2014.6\n",
            "making step: 2014.7\n",
            "making step: 2014.8\n",
            "making step: 2014.9\n",
            "making step: 2014.10\n",
            "making step: 2014.11\n",
            "making step: 2014.12\n",
            "making step: 2015.1\n",
            "making step: 2015.2\n",
            "making step: 2015.3\n",
            "making step: 2015.4\n",
            "making step: 2015.5\n",
            "making step: 2015.6\n",
            "making step: 2015.7\n",
            "making step: 2015.8\n",
            "making step: 2015.9\n",
            "making step: 2015.10\n",
            "making step: 2015.11\n",
            "making step: 2015.12\n",
            "making step: 2016.1\n",
            "making step: 2016.2\n",
            "making step: 2016.3\n",
            "making step: 2016.4\n",
            "making step: 2016.5\n",
            "making step: 2016.6\n",
            "making step: 2016.7\n",
            "making step: 2016.8\n",
            "making step: 2016.9\n",
            "making step: 2016.10\n",
            "making step: 2016.11\n",
            "making step: 2016.12\n",
            "making step: 2017.1\n",
            "making step: 2017.2\n",
            "making step: 2017.3\n",
            "making step: 2017.4\n",
            "making step: 2017.5\n",
            "making step: 2017.6\n",
            "making step: 2017.7\n",
            "making step: 2017.8\n",
            "making step: 2017.9\n",
            "making step: 2017.10\n",
            "making step: 2017.11\n",
            "CPU times: user 37.7 s, sys: 813 ms, total: 38.6 s\n",
            "Wall time: 38.5 s\n"
          ]
        }
      ]
    },
    {
      "cell_type": "code",
      "source": [
        "benchmark_train = sum(env_train.reward_hist)\n",
        "print(f'Суммарный reward на Train:\\t{benchmark_train}')"
      ],
      "metadata": {
        "colab": {
          "base_uri": "https://localhost:8080/",
          "height": 0
        },
        "id": "_MGkbwOiD3Kh",
        "outputId": "59814b1e-ec41-4bf5-88e6-a0424f1d9ecc"
      },
      "execution_count": 87,
      "outputs": [
        {
          "output_type": "stream",
          "name": "stdout",
          "text": [
            "Суммарный reward на Train:\t364600205.4082528\n"
          ]
        }
      ]
    },
    {
      "cell_type": "code",
      "source": [
        "%%time\n",
        "\n",
        "prev_state, reward, done, _ = env_test.reset(minYear=2018, minMonth=1)\n",
        "while True:\n",
        "    # Recieve state and reward from environment.\n",
        "    state, reward, done, _ = env_test.step( 570 )\n",
        "    \n",
        "    # End this episode when `done` is True\n",
        "    if done:\n",
        "        break"
      ],
      "metadata": {
        "colab": {
          "base_uri": "https://localhost:8080/",
          "height": 0
        },
        "id": "lzv9_EdmKFOp",
        "outputId": "28594d44-b90d-4ec3-99b1-192e4328b2d9"
      },
      "execution_count": 88,
      "outputs": [
        {
          "output_type": "stream",
          "name": "stdout",
          "text": [
            "making step: 2018.1\n",
            "making step: 2018.2\n",
            "making step: 2018.3\n",
            "making step: 2018.4\n",
            "making step: 2018.5\n",
            "CPU times: user 9.65 s, sys: 58.4 ms, total: 9.71 s\n",
            "Wall time: 9.74 s\n"
          ]
        }
      ]
    },
    {
      "cell_type": "code",
      "source": [
        "benchmark_test = sum(env_test.reward_hist)\n",
        "print(f'Суммарный reward на Test:\\t{benchmark_test}')"
      ],
      "metadata": {
        "colab": {
          "base_uri": "https://localhost:8080/",
          "height": 0
        },
        "id": "6w-qxpfpK2wM",
        "outputId": "6b2746c0-920b-4278-9b7d-0feeb3ae5011"
      },
      "execution_count": 89,
      "outputs": [
        {
          "output_type": "stream",
          "name": "stdout",
          "text": [
            "Суммарный reward на Test:\t112058233.81855965\n"
          ]
        }
      ]
    },
    {
      "cell_type": "markdown",
      "source": [
        "<h3>Подготовим трансформер для ввода</h3><br>\n",
        "Подавать одно значение в нейронку - бред<br>\n",
        "Воспользуемся лайфхаком из оригинальной работы и применим Gaussian RBF трансформацию"
      ],
      "metadata": {
        "id": "uoZPVeI6GLAo"
      }
    },
    {
      "cell_type": "code",
      "source": [
        "import numpy as np\n",
        "from sklearn.pipeline import FeatureUnion\n",
        "from sklearn.preprocessing import StandardScaler\n",
        "from sklearn.kernel_approximation import RBFSampler\n",
        "\n",
        "upper_bound = [1]\n",
        "lower_bound = [0]\n",
        "\n",
        "action_space = spaces.Box(np.array(lower_bound), np.array(upper_bound))"
      ],
      "metadata": {
        "id": "vWJvKq6KqWq6"
      },
      "execution_count": 90,
      "outputs": []
    },
    {
      "cell_type": "code",
      "source": [
        "class FeatureTransformer:\n",
        "    def __init__(self):\n",
        "        observation_examples = np.array([action_space.sample() for x in range(10000)])\n",
        "        scaler = StandardScaler()\n",
        "        scaler.fit(observation_examples)\n",
        "    \n",
        "        featurizer = FeatureUnion([\n",
        "                (\"rbf1\", RBFSampler(gamma=5.0, n_components=20)),\n",
        "                (\"rbf2\", RBFSampler(gamma=2.0, n_components=20)),\n",
        "                (\"rbf3\", RBFSampler(gamma=1.0, n_components=20)),\n",
        "                (\"rbf4\", RBFSampler(gamma=0.5, n_components=20))\n",
        "                ])\n",
        "        example_features = featurizer.fit_transform(scaler.transform(observation_examples))\n",
        "    \n",
        "        self.dimensions = example_features.shape[1]\n",
        "        self.scaler = scaler\n",
        "        self.featurizer = featurizer\n",
        "        \n",
        "    def transform(self, observations):\n",
        "        scaled = self.scaler.transform(np.array(observations).reshape(1, -1))\n",
        "        return self.featurizer.transform(scaled)"
      ],
      "metadata": {
        "id": "6fs2OCanqXJA"
      },
      "execution_count": 91,
      "outputs": []
    },
    {
      "cell_type": "code",
      "source": [
        "transformer = FeatureTransformer()\n",
        "transformer.transform(1).shape"
      ],
      "metadata": {
        "colab": {
          "base_uri": "https://localhost:8080/",
          "height": 0
        },
        "id": "g-4U2wK2qZIP",
        "outputId": "3f1404a3-cb4a-49ca-a2a7-6fc1b338a53a"
      },
      "execution_count": 92,
      "outputs": [
        {
          "output_type": "execute_result",
          "data": {
            "text/plain": [
              "(1, 80)"
            ]
          },
          "metadata": {},
          "execution_count": 92
        }
      ]
    },
    {
      "cell_type": "markdown",
      "metadata": {
        "id": "2JKs0-QIlzfM"
      },
      "source": [
        "<h3>Agent</h3>"
      ]
    },
    {
      "cell_type": "code",
      "execution_count": 93,
      "metadata": {
        "id": "eJ6jQb1YlzfM"
      },
      "outputs": [],
      "source": [
        "import tensorflow as tf\n",
        "from tensorflow.keras import layers\n",
        "import numpy as np"
      ]
    },
    {
      "cell_type": "code",
      "execution_count": 94,
      "metadata": {
        "colab": {
          "base_uri": "https://localhost:8080/",
          "height": 35
        },
        "id": "fDQcXyr_lzfM",
        "outputId": "49ee3922-1228-4a6f-e6f2-293c185f5d9a"
      },
      "outputs": [
        {
          "output_type": "execute_result",
          "data": {
            "text/plain": [
              "'2.9.2'"
            ],
            "application/vnd.google.colaboratory.intrinsic+json": {
              "type": "string"
            }
          },
          "metadata": {},
          "execution_count": 94
        }
      ],
      "source": [
        "tf.__version__"
      ]
    },
    {
      "cell_type": "code",
      "execution_count": 95,
      "metadata": {
        "id": "k5oMrZUdlzfN"
      },
      "outputs": [],
      "source": [
        "tf.random.set_seed(42)\n",
        "np.random.seed(42)"
      ]
    },
    {
      "cell_type": "code",
      "execution_count": 96,
      "metadata": {
        "colab": {
          "base_uri": "https://localhost:8080/",
          "height": 0
        },
        "id": "H-vnIMp3lzfN",
        "outputId": "6f347d2a-6e9d-40d8-c26a-b64a8cc6d894"
      },
      "outputs": [
        {
          "output_type": "stream",
          "name": "stdout",
          "text": [
            "Size of State Space ->  80\n",
            "Size of Action Space ->  1\n",
            "Max Value of Action ->  [1]\n",
            "Min Value of Action ->  [0]\n"
          ]
        }
      ],
      "source": [
        "num_states = 80\n",
        "num_actions = 1\n",
        "\n",
        "print(\"Size of State Space ->  {}\".format(num_states))\n",
        "print(\"Size of Action Space ->  {}\".format(num_actions))\n",
        "\n",
        "print(\"Max Value of Action ->  {}\".format(upper_bound))\n",
        "print(\"Min Value of Action ->  {}\".format(lower_bound))"
      ]
    },
    {
      "cell_type": "code",
      "execution_count": 97,
      "metadata": {
        "id": "pl55oGaulzfN"
      },
      "outputs": [],
      "source": [
        "# Buffer stores experiences, when the capacity is exceeded, it starts overriding past data\n",
        "\n",
        "class Buffer:\n",
        "    def __init__(self, buffer_capacity=100000, batch_size=64):\n",
        "        # Number of \"experiences\" to store at max\n",
        "        self.buffer_capacity = buffer_capacity\n",
        "        # Num of tuples to train on.\n",
        "        self.batch_size = batch_size\n",
        "\n",
        "        # Its tells us num of times record() was called.\n",
        "        self.buffer_counter = 0\n",
        "\n",
        "        # Instead of list of tuples as the exp.replay concept go\n",
        "        # We use different np.arrays for each tuple element\n",
        "        self.state_buffer = np.zeros((self.buffer_capacity, num_states))\n",
        "        self.action_buffer = np.zeros((self.buffer_capacity, num_actions))\n",
        "        self.reward_buffer = np.zeros((self.buffer_capacity, 1))\n",
        "        self.next_state_buffer = np.zeros((self.buffer_capacity, num_states))\n",
        "\n",
        "    # Takes (s,a,r,s') obervation tuple as input\n",
        "    def record(self, obs_tuple):\n",
        "        # Set index to zero if buffer_capacity is exceeded,\n",
        "        # replacing old records\n",
        "        index = self.buffer_counter % self.buffer_capacity\n",
        "\n",
        "        self.state_buffer[index] = obs_tuple[0]\n",
        "        self.action_buffer[index] = obs_tuple[1]\n",
        "        self.reward_buffer[index] = obs_tuple[2]\n",
        "        self.next_state_buffer[index] = obs_tuple[3]\n",
        "\n",
        "        self.buffer_counter += 1\n",
        "\n",
        "    # Eager execution is turned on by default in TensorFlow 2. Decorating with tf.function allows\n",
        "    # TensorFlow to build a static graph out of the logic and computations in our function.\n",
        "    # This provides a large speed up for blocks of code that contain many small TensorFlow operations such as this one.\n",
        "    @tf.function\n",
        "    def update(\n",
        "        self, state_batch, action_batch, reward_batch, next_state_batch,\n",
        "    ):\n",
        "        # Training and updating Actor & Critic networks.\n",
        "        # See Pseudo Code.\n",
        "        with tf.GradientTape() as tape:\n",
        "            target_actions = target_actor(next_state_batch, training=True)\n",
        "            y = reward_batch + gamma * target_critic(\n",
        "                [next_state_batch, target_actions], training=True\n",
        "            )\n",
        "            critic_value = critic_model([state_batch, action_batch], training=True)\n",
        "            critic_loss = tf.math.reduce_mean(tf.math.square(y - critic_value))\n",
        "\n",
        "        critic_grad = tape.gradient(critic_loss, critic_model.trainable_variables)\n",
        "        critic_optimizer.apply_gradients(\n",
        "            zip(critic_grad, critic_model.trainable_variables)\n",
        "        )\n",
        "\n",
        "        with tf.GradientTape() as tape:\n",
        "            actions = actor_model(state_batch, training=True)\n",
        "            critic_value = critic_model([state_batch, actions], training=True)\n",
        "            # Used `-value` as we want to maximize the value given\n",
        "            # by the critic for our actions\n",
        "            actor_loss = -tf.math.reduce_mean(critic_value)\n",
        "\n",
        "        actor_grad = tape.gradient(actor_loss, actor_model.trainable_variables)\n",
        "        actor_optimizer.apply_gradients(\n",
        "            zip(actor_grad, actor_model.trainable_variables)\n",
        "        )\n",
        "\n",
        "    # We compute the loss and update parameters\n",
        "    def learn(self):\n",
        "        # Get sampling range\n",
        "        record_range = min(self.buffer_counter, self.buffer_capacity)\n",
        "        # Randomly sample indices\n",
        "        batch_indices = np.random.choice(record_range, self.batch_size)\n",
        "\n",
        "        # Convert to tensors\n",
        "        state_batch = tf.convert_to_tensor(self.state_buffer[batch_indices])\n",
        "        action_batch = tf.convert_to_tensor(self.action_buffer[batch_indices])\n",
        "        reward_batch = tf.convert_to_tensor(self.reward_buffer[batch_indices])\n",
        "        reward_batch = tf.cast(reward_batch, dtype=tf.float32)\n",
        "        next_state_batch = tf.convert_to_tensor(self.next_state_buffer[batch_indices])\n",
        "\n",
        "        self.update(state_batch, action_batch, reward_batch, next_state_batch)\n",
        "\n",
        "\n",
        "# This update target parameters slowly\n",
        "# Based on rate `tau`, which is much less than one.\n",
        "@tf.function\n",
        "def update_target(target_weights, weights, tau):\n",
        "    for (a, b) in zip(target_weights, weights):\n",
        "        a.assign(b * tau + a * (1 - tau))"
      ]
    },
    {
      "cell_type": "markdown",
      "metadata": {
        "id": "tIGzokTclzfN"
      },
      "source": [
        "<h4>Actor + Critic</h4>"
      ]
    },
    {
      "cell_type": "code",
      "execution_count": 98,
      "metadata": {
        "id": "koS8xvNulzfN"
      },
      "outputs": [],
      "source": [
        "def get_actor():\n",
        "    # Initialize weights between -3e-2 and 3-e2\n",
        "    last_init = tf.random_uniform_initializer(minval=-0.002, maxval=0.002)\n",
        "\n",
        "    inputs = layers.Input(shape=(num_states,))\n",
        "    out = layers.Dense(256, activation=\"relu\")(inputs)\n",
        "    out = layers.Dense(256, activation=\"relu\")(out)\n",
        "    outputs = layers.Dense(num_actions, activation=\"sigmoid\", kernel_initializer=last_init)(out)\n",
        "\n",
        "    # Our upper bound\n",
        "    outputs = outputs * upper_bound\n",
        "    model = tf.keras.Model(inputs, outputs)\n",
        "    return model\n",
        "\n",
        "\n",
        "def get_critic():\n",
        "    # State as input\n",
        "    state_input = layers.Input(shape=(num_states))\n",
        "    state_out = layers.Dense(16, activation=\"relu\")(state_input)\n",
        "    state_out = layers.Dense(32, activation=\"relu\")(state_out)\n",
        "\n",
        "    # Action as input\n",
        "    action_input = layers.Input(shape=(num_actions))\n",
        "    action_out = layers.Dense(32, activation=\"relu\")(action_input)\n",
        "\n",
        "    # Both are passed through seperate layer before concatenating\n",
        "    concat = layers.Concatenate()([state_out, action_out])\n",
        "\n",
        "    out = layers.Dense(256, activation=\"relu\")(concat)\n",
        "    out = layers.Dense(256, activation=\"relu\")(out)\n",
        "    outputs = layers.Dense(1)(out)\n",
        "\n",
        "    # Outputs single value for give state-action\n",
        "    model = tf.keras.Model([state_input, action_input], outputs)\n",
        "\n",
        "    return model"
      ]
    },
    {
      "cell_type": "markdown",
      "metadata": {
        "id": "ygKfeuPPlzfN"
      },
      "source": [
        "<h4>Policy (take action)</h4>"
      ]
    },
    {
      "cell_type": "code",
      "execution_count": 99,
      "metadata": {
        "id": "zwk6Bl0plzfN"
      },
      "outputs": [],
      "source": [
        "def policy(state, train=True):\n",
        "    sampled_actions = tf.squeeze(actor_model(state))\n",
        "    # Adding noise to actions\n",
        "    if train:\n",
        "        sampled_actions = sampled_actions.numpy() + np.random.normal(loc=0.5, scale=1.0, size=sampled_actions.shape)\n",
        "    else:\n",
        "        sampled_actions = sampled_actions.numpy()\n",
        "\n",
        "    # We make sure action is within bounds\n",
        "    legal_actions = np.clip(sampled_actions, lower_bound, upper_bound)\n",
        "\n",
        "    if num_actions == 1:\n",
        "        return [np.squeeze(legal_actions)]\n",
        "    else:\n",
        "        return legal_actions"
      ]
    },
    {
      "cell_type": "markdown",
      "metadata": {
        "id": "8GGkSx51lzfO"
      },
      "source": [
        "<h4>Initialize agent</h4>"
      ]
    },
    {
      "cell_type": "code",
      "execution_count": 102,
      "metadata": {
        "id": "vI5fu52slzfO"
      },
      "outputs": [],
      "source": [
        "# init actor\n",
        "actor_model = get_actor()\n",
        "critic_model = get_critic()\n",
        "\n",
        "# init critic\n",
        "target_actor = get_actor()\n",
        "target_critic = get_critic()\n",
        "\n",
        "# Making the weights equal initially\n",
        "target_actor.set_weights(actor_model.get_weights())\n",
        "target_critic.set_weights(critic_model.get_weights())\n",
        "\n",
        "# Learning rate for actor-critic models\n",
        "# critic_optimizer = tf.keras.optimizers.Adam(lr=0.0004)\n",
        "critic_optimizer = tf.keras.optimizers.Adam(lr=0.01)\n",
        "# actor_optimizer = tf.keras.optimizers.Adam(lr=0.00008)\n",
        "actor_optimizer = tf.keras.optimizers.Adam(lr=0.02)\n",
        "\n",
        "total_episodes = 10\n",
        "# Discount factor for future rewards\n",
        "gamma = 0.92\n",
        "# gamma = 0.97\n",
        "# Used to update target networks\n",
        "# tau = 0.004\n",
        "tau = 0.7\n",
        "\n",
        "buffer = Buffer(1000, 128) # capacity, batch_size"
      ]
    },
    {
      "cell_type": "markdown",
      "metadata": {
        "id": "vaU47AERlzfO"
      },
      "source": [
        "<h4>Simulation</h4>"
      ]
    },
    {
      "cell_type": "code",
      "source": [
        "import random\n",
        "\n",
        "max_score = env_train.data.score_cat.max()\n",
        "max_score"
      ],
      "metadata": {
        "colab": {
          "base_uri": "https://localhost:8080/",
          "height": 0
        },
        "id": "CDOzRQks-i-6",
        "outputId": "707a4f11-6f87-4aa6-bbc0-dafd45780a13"
      },
      "execution_count": 153,
      "outputs": [
        {
          "output_type": "execute_result",
          "data": {
            "text/plain": [
              "609.0"
            ]
          },
          "metadata": {},
          "execution_count": 153
        }
      ]
    },
    {
      "cell_type": "code",
      "execution_count": 173,
      "metadata": {
        "colab": {
          "base_uri": "https://localhost:8080/",
          "height": 0
        },
        "id": "ZJlqmB2WlzfO",
        "outputId": "c0123acd-e0db-48a4-eafb-b7a46d4f0ab4"
      },
      "outputs": [
        {
          "output_type": "stream",
          "name": "stdout",
          "text": [
            "---> Episode 1 starts\n",
            "making step: 2007.6\n",
            "making step: 2007.7\n",
            "making step: 2007.8\n",
            "making step: 2007.9\n",
            "making step: 2007.10\n",
            "making step: 2007.11\n",
            "making step: 2007.12\n",
            "making step: 2008.1\n",
            "making step: 2008.2\n",
            "making step: 2008.3\n",
            "making step: 2008.4\n",
            "making step: 2008.5\n",
            "making step: 2008.6\n",
            "making step: 2008.7\n",
            "making step: 2008.8\n",
            "making step: 2008.9\n",
            "making step: 2008.10\n",
            "making step: 2008.11\n",
            "making step: 2008.12\n",
            "making step: 2009.1\n",
            "making step: 2009.2\n",
            "making step: 2009.3\n",
            "making step: 2009.4\n",
            "making step: 2009.5\n",
            "making step: 2009.6\n",
            "making step: 2009.7\n",
            "making step: 2009.8\n",
            "making step: 2009.9\n",
            "making step: 2009.10\n",
            "making step: 2009.11\n",
            "making step: 2009.12\n",
            "making step: 2010.1\n",
            "making step: 2010.2\n",
            "making step: 2010.3\n",
            "making step: 2010.4\n",
            "making step: 2010.5\n",
            "making step: 2010.6\n",
            "making step: 2010.7\n",
            "making step: 2010.8\n",
            "making step: 2010.9\n",
            "making step: 2010.10\n",
            "making step: 2010.11\n",
            "making step: 2010.12\n",
            "making step: 2011.1\n",
            "making step: 2011.2\n",
            "making step: 2011.3\n",
            "making step: 2011.4\n",
            "making step: 2011.5\n",
            "making step: 2011.6\n",
            "making step: 2011.7\n",
            "making step: 2011.8\n",
            "making step: 2011.9\n",
            "making step: 2011.10\n",
            "making step: 2011.11\n",
            "making step: 2011.12\n",
            "making step: 2012.1\n",
            "making step: 2012.2\n",
            "making step: 2012.3\n",
            "making step: 2012.4\n",
            "making step: 2012.5\n",
            "making step: 2012.6\n",
            "making step: 2012.7\n",
            "making step: 2012.8\n",
            "making step: 2012.9\n",
            "making step: 2012.10\n",
            "making step: 2012.11\n",
            "making step: 2012.12\n",
            "making step: 2013.1\n",
            "making step: 2013.2\n",
            "making step: 2013.3\n",
            "making step: 2013.4\n",
            "making step: 2013.5\n",
            "making step: 2013.6\n",
            "making step: 2013.7\n",
            "making step: 2013.8\n",
            "making step: 2013.9\n",
            "making step: 2013.10\n",
            "making step: 2013.11\n",
            "making step: 2013.12\n",
            "making step: 2014.1\n",
            "making step: 2014.2\n",
            "making step: 2014.3\n",
            "making step: 2014.4\n",
            "making step: 2014.5\n",
            "making step: 2014.6\n",
            "making step: 2014.7\n",
            "making step: 2014.8\n",
            "making step: 2014.9\n",
            "making step: 2014.10\n",
            "making step: 2014.11\n",
            "making step: 2014.12\n",
            "making step: 2015.1\n",
            "making step: 2015.2\n",
            "making step: 2015.3\n",
            "making step: 2015.4\n",
            "making step: 2015.5\n",
            "making step: 2015.6\n",
            "making step: 2015.7\n",
            "making step: 2015.8\n",
            "making step: 2015.9\n",
            "making step: 2015.10\n",
            "making step: 2015.11\n",
            "making step: 2015.12\n",
            "making step: 2016.1\n",
            "making step: 2016.2\n",
            "making step: 2016.3\n",
            "making step: 2016.4\n",
            "making step: 2016.5\n",
            "making step: 2016.6\n",
            "making step: 2016.7\n",
            "making step: 2016.8\n",
            "making step: 2016.9\n",
            "making step: 2016.10\n",
            "making step: 2016.11\n",
            "making step: 2016.12\n",
            "making step: 2017.1\n",
            "making step: 2017.2\n",
            "making step: 2017.3\n",
            "making step: 2017.4\n",
            "making step: 2017.5\n",
            "making step: 2017.6\n",
            "making step: 2017.7\n",
            "making step: 2017.8\n",
            "making step: 2017.9\n",
            "making step: 2017.10\n",
            "making step: 2017.11\n",
            "---> Episode * 1 * Avg Mean Reward is ==> 3363425.805 * Avg Total Reward is ==> 423791651.47\n",
            "---> Episode 2 starts\n",
            "making step: 2007.6\n",
            "making step: 2007.7\n",
            "making step: 2007.8\n",
            "making step: 2007.9\n",
            "making step: 2007.10\n",
            "making step: 2007.11\n",
            "making step: 2007.12\n",
            "making step: 2008.1\n",
            "making step: 2008.2\n",
            "making step: 2008.3\n",
            "making step: 2008.4\n",
            "making step: 2008.5\n",
            "making step: 2008.6\n",
            "making step: 2008.7\n",
            "making step: 2008.8\n",
            "making step: 2008.9\n",
            "making step: 2008.10\n",
            "making step: 2008.11\n",
            "making step: 2008.12\n",
            "making step: 2009.1\n",
            "making step: 2009.2\n",
            "making step: 2009.3\n",
            "making step: 2009.4\n",
            "making step: 2009.5\n",
            "making step: 2009.6\n",
            "making step: 2009.7\n",
            "making step: 2009.8\n",
            "making step: 2009.9\n",
            "making step: 2009.10\n",
            "making step: 2009.11\n",
            "making step: 2009.12\n",
            "making step: 2010.1\n",
            "making step: 2010.2\n",
            "making step: 2010.3\n",
            "making step: 2010.4\n",
            "making step: 2010.5\n",
            "making step: 2010.6\n",
            "making step: 2010.7\n",
            "making step: 2010.8\n",
            "making step: 2010.9\n",
            "making step: 2010.10\n",
            "making step: 2010.11\n",
            "making step: 2010.12\n",
            "making step: 2011.1\n",
            "making step: 2011.2\n",
            "making step: 2011.3\n",
            "making step: 2011.4\n",
            "making step: 2011.5\n",
            "making step: 2011.6\n",
            "making step: 2011.7\n",
            "making step: 2011.8\n",
            "making step: 2011.9\n",
            "making step: 2011.10\n",
            "making step: 2011.11\n",
            "making step: 2011.12\n",
            "making step: 2012.1\n",
            "making step: 2012.2\n",
            "making step: 2012.3\n",
            "making step: 2012.4\n",
            "making step: 2012.5\n",
            "making step: 2012.6\n",
            "making step: 2012.7\n",
            "making step: 2012.8\n",
            "making step: 2012.9\n",
            "making step: 2012.10\n",
            "making step: 2012.11\n",
            "making step: 2012.12\n",
            "making step: 2013.1\n",
            "making step: 2013.2\n",
            "making step: 2013.3\n",
            "making step: 2013.4\n",
            "making step: 2013.5\n",
            "making step: 2013.6\n",
            "making step: 2013.7\n",
            "making step: 2013.8\n",
            "making step: 2013.9\n",
            "making step: 2013.10\n",
            "making step: 2013.11\n",
            "making step: 2013.12\n",
            "making step: 2014.1\n",
            "making step: 2014.2\n",
            "making step: 2014.3\n",
            "making step: 2014.4\n",
            "making step: 2014.5\n",
            "making step: 2014.6\n",
            "making step: 2014.7\n",
            "making step: 2014.8\n",
            "making step: 2014.9\n",
            "making step: 2014.10\n",
            "making step: 2014.11\n",
            "making step: 2014.12\n",
            "making step: 2015.1\n",
            "making step: 2015.2\n",
            "making step: 2015.3\n",
            "making step: 2015.4\n",
            "making step: 2015.5\n",
            "making step: 2015.6\n",
            "making step: 2015.7\n",
            "making step: 2015.8\n",
            "making step: 2015.9\n",
            "making step: 2015.10\n",
            "making step: 2015.11\n",
            "making step: 2015.12\n",
            "making step: 2016.1\n",
            "making step: 2016.2\n",
            "making step: 2016.3\n",
            "making step: 2016.4\n",
            "making step: 2016.5\n",
            "making step: 2016.6\n",
            "making step: 2016.7\n",
            "making step: 2016.8\n",
            "making step: 2016.9\n",
            "making step: 2016.10\n",
            "making step: 2016.11\n",
            "making step: 2016.12\n",
            "making step: 2017.1\n",
            "making step: 2017.2\n",
            "making step: 2017.3\n",
            "making step: 2017.4\n",
            "making step: 2017.5\n",
            "making step: 2017.6\n",
            "making step: 2017.7\n",
            "making step: 2017.8\n",
            "making step: 2017.9\n",
            "making step: 2017.10\n",
            "making step: 2017.11\n",
            "---> Episode * 2 * Avg Mean Reward is ==> 2494415.065 * Avg Total Reward is ==> 314296298.194\n",
            "---> Episode 3 starts\n",
            "making step: 2007.6\n",
            "making step: 2007.7\n",
            "making step: 2007.8\n",
            "making step: 2007.9\n",
            "making step: 2007.10\n",
            "making step: 2007.11\n",
            "making step: 2007.12\n",
            "making step: 2008.1\n",
            "making step: 2008.2\n",
            "making step: 2008.3\n",
            "making step: 2008.4\n",
            "making step: 2008.5\n",
            "making step: 2008.6\n",
            "making step: 2008.7\n",
            "making step: 2008.8\n",
            "making step: 2008.9\n",
            "making step: 2008.10\n",
            "making step: 2008.11\n",
            "making step: 2008.12\n",
            "making step: 2009.1\n",
            "making step: 2009.2\n",
            "making step: 2009.3\n",
            "making step: 2009.4\n",
            "making step: 2009.5\n",
            "making step: 2009.6\n",
            "making step: 2009.7\n",
            "making step: 2009.8\n",
            "making step: 2009.9\n",
            "making step: 2009.10\n",
            "making step: 2009.11\n",
            "making step: 2009.12\n",
            "making step: 2010.1\n",
            "making step: 2010.2\n",
            "making step: 2010.3\n",
            "making step: 2010.4\n",
            "making step: 2010.5\n",
            "making step: 2010.6\n",
            "making step: 2010.7\n",
            "making step: 2010.8\n",
            "making step: 2010.9\n",
            "making step: 2010.10\n",
            "making step: 2010.11\n",
            "making step: 2010.12\n",
            "making step: 2011.1\n",
            "making step: 2011.2\n",
            "making step: 2011.3\n",
            "making step: 2011.4\n",
            "making step: 2011.5\n",
            "making step: 2011.6\n",
            "making step: 2011.7\n",
            "making step: 2011.8\n",
            "making step: 2011.9\n",
            "making step: 2011.10\n",
            "making step: 2011.11\n",
            "making step: 2011.12\n",
            "making step: 2012.1\n",
            "making step: 2012.2\n",
            "making step: 2012.3\n",
            "making step: 2012.4\n",
            "making step: 2012.5\n",
            "making step: 2012.6\n",
            "making step: 2012.7\n",
            "making step: 2012.8\n",
            "making step: 2012.9\n",
            "making step: 2012.10\n",
            "making step: 2012.11\n",
            "making step: 2012.12\n",
            "making step: 2013.1\n",
            "making step: 2013.2\n",
            "making step: 2013.3\n",
            "making step: 2013.4\n",
            "making step: 2013.5\n",
            "making step: 2013.6\n",
            "making step: 2013.7\n",
            "making step: 2013.8\n",
            "making step: 2013.9\n",
            "making step: 2013.10\n",
            "making step: 2013.11\n",
            "making step: 2013.12\n",
            "making step: 2014.1\n",
            "making step: 2014.2\n",
            "making step: 2014.3\n",
            "making step: 2014.4\n",
            "making step: 2014.5\n",
            "making step: 2014.6\n",
            "making step: 2014.7\n",
            "making step: 2014.8\n",
            "making step: 2014.9\n",
            "making step: 2014.10\n",
            "making step: 2014.11\n",
            "making step: 2014.12\n",
            "making step: 2015.1\n",
            "making step: 2015.2\n",
            "making step: 2015.3\n",
            "making step: 2015.4\n",
            "making step: 2015.5\n",
            "making step: 2015.6\n",
            "making step: 2015.7\n",
            "making step: 2015.8\n",
            "making step: 2015.9\n",
            "making step: 2015.10\n",
            "making step: 2015.11\n",
            "making step: 2015.12\n",
            "making step: 2016.1\n",
            "making step: 2016.2\n",
            "making step: 2016.3\n",
            "making step: 2016.4\n",
            "making step: 2016.5\n",
            "making step: 2016.6\n",
            "making step: 2016.7\n",
            "making step: 2016.8\n",
            "making step: 2016.9\n",
            "making step: 2016.10\n",
            "making step: 2016.11\n",
            "making step: 2016.12\n",
            "making step: 2017.1\n",
            "making step: 2017.2\n",
            "making step: 2017.3\n",
            "making step: 2017.4\n",
            "making step: 2017.5\n",
            "making step: 2017.6\n",
            "making step: 2017.7\n",
            "making step: 2017.8\n",
            "making step: 2017.9\n",
            "making step: 2017.10\n",
            "making step: 2017.11\n",
            "---> Episode * 3 * Avg Mean Reward is ==> 3176768.335 * Avg Total Reward is ==> 400272810.241\n",
            "---> Episode 4 starts\n",
            "making step: 2007.6\n",
            "making step: 2007.7\n",
            "making step: 2007.8\n",
            "making step: 2007.9\n",
            "making step: 2007.10\n",
            "making step: 2007.11\n",
            "making step: 2007.12\n",
            "making step: 2008.1\n",
            "making step: 2008.2\n",
            "making step: 2008.3\n",
            "making step: 2008.4\n",
            "making step: 2008.5\n",
            "making step: 2008.6\n",
            "making step: 2008.7\n",
            "making step: 2008.8\n",
            "making step: 2008.9\n",
            "making step: 2008.10\n",
            "making step: 2008.11\n",
            "making step: 2008.12\n",
            "making step: 2009.1\n",
            "making step: 2009.2\n",
            "making step: 2009.3\n",
            "making step: 2009.4\n",
            "making step: 2009.5\n",
            "making step: 2009.6\n",
            "making step: 2009.7\n",
            "making step: 2009.8\n",
            "making step: 2009.9\n",
            "making step: 2009.10\n",
            "making step: 2009.11\n",
            "making step: 2009.12\n",
            "making step: 2010.1\n",
            "making step: 2010.2\n",
            "making step: 2010.3\n",
            "making step: 2010.4\n",
            "making step: 2010.5\n",
            "making step: 2010.6\n",
            "making step: 2010.7\n",
            "making step: 2010.8\n",
            "making step: 2010.9\n",
            "making step: 2010.10\n",
            "making step: 2010.11\n",
            "making step: 2010.12\n",
            "making step: 2011.1\n",
            "making step: 2011.2\n",
            "making step: 2011.3\n",
            "making step: 2011.4\n",
            "making step: 2011.5\n",
            "making step: 2011.6\n",
            "making step: 2011.7\n",
            "making step: 2011.8\n",
            "making step: 2011.9\n",
            "making step: 2011.10\n",
            "making step: 2011.11\n",
            "making step: 2011.12\n",
            "making step: 2012.1\n",
            "making step: 2012.2\n",
            "making step: 2012.3\n",
            "making step: 2012.4\n",
            "making step: 2012.5\n",
            "making step: 2012.6\n",
            "making step: 2012.7\n",
            "making step: 2012.8\n",
            "making step: 2012.9\n",
            "making step: 2012.10\n",
            "making step: 2012.11\n",
            "making step: 2012.12\n",
            "making step: 2013.1\n",
            "making step: 2013.2\n",
            "making step: 2013.3\n",
            "making step: 2013.4\n",
            "making step: 2013.5\n",
            "making step: 2013.6\n",
            "making step: 2013.7\n",
            "making step: 2013.8\n",
            "making step: 2013.9\n",
            "making step: 2013.10\n",
            "making step: 2013.11\n",
            "making step: 2013.12\n",
            "making step: 2014.1\n",
            "making step: 2014.2\n",
            "making step: 2014.3\n",
            "making step: 2014.4\n",
            "making step: 2014.5\n",
            "making step: 2014.6\n",
            "making step: 2014.7\n",
            "making step: 2014.8\n",
            "making step: 2014.9\n",
            "making step: 2014.10\n",
            "making step: 2014.11\n",
            "making step: 2014.12\n",
            "making step: 2015.1\n",
            "making step: 2015.2\n",
            "making step: 2015.3\n",
            "making step: 2015.4\n",
            "making step: 2015.5\n",
            "making step: 2015.6\n",
            "making step: 2015.7\n",
            "making step: 2015.8\n",
            "making step: 2015.9\n",
            "making step: 2015.10\n",
            "making step: 2015.11\n",
            "making step: 2015.12\n",
            "making step: 2016.1\n",
            "making step: 2016.2\n",
            "making step: 2016.3\n",
            "making step: 2016.4\n",
            "making step: 2016.5\n",
            "making step: 2016.6\n",
            "making step: 2016.7\n",
            "making step: 2016.8\n",
            "making step: 2016.9\n",
            "making step: 2016.10\n",
            "making step: 2016.11\n",
            "making step: 2016.12\n",
            "making step: 2017.1\n",
            "making step: 2017.2\n",
            "making step: 2017.3\n",
            "making step: 2017.4\n",
            "making step: 2017.5\n",
            "making step: 2017.6\n",
            "making step: 2017.7\n",
            "making step: 2017.8\n",
            "making step: 2017.9\n",
            "making step: 2017.10\n",
            "making step: 2017.11\n",
            "---> Episode * 4 * Avg Mean Reward is ==> 2959879.404 * Avg Total Reward is ==> 372944804.932\n",
            "---> Episode 5 starts\n",
            "making step: 2007.6\n",
            "making step: 2007.7\n",
            "making step: 2007.8\n",
            "making step: 2007.9\n",
            "making step: 2007.10\n",
            "making step: 2007.11\n",
            "making step: 2007.12\n",
            "making step: 2008.1\n",
            "making step: 2008.2\n",
            "making step: 2008.3\n",
            "making step: 2008.4\n",
            "making step: 2008.5\n",
            "making step: 2008.6\n",
            "making step: 2008.7\n",
            "making step: 2008.8\n",
            "making step: 2008.9\n",
            "making step: 2008.10\n",
            "making step: 2008.11\n",
            "making step: 2008.12\n",
            "making step: 2009.1\n",
            "making step: 2009.2\n",
            "making step: 2009.3\n",
            "making step: 2009.4\n",
            "making step: 2009.5\n",
            "making step: 2009.6\n",
            "making step: 2009.7\n",
            "making step: 2009.8\n",
            "making step: 2009.9\n",
            "making step: 2009.10\n",
            "making step: 2009.11\n",
            "making step: 2009.12\n",
            "making step: 2010.1\n",
            "making step: 2010.2\n",
            "making step: 2010.3\n",
            "making step: 2010.4\n",
            "making step: 2010.5\n",
            "making step: 2010.6\n",
            "making step: 2010.7\n",
            "making step: 2010.8\n",
            "making step: 2010.9\n",
            "making step: 2010.10\n",
            "making step: 2010.11\n",
            "making step: 2010.12\n",
            "making step: 2011.1\n",
            "making step: 2011.2\n",
            "making step: 2011.3\n",
            "making step: 2011.4\n",
            "making step: 2011.5\n",
            "making step: 2011.6\n",
            "making step: 2011.7\n",
            "making step: 2011.8\n",
            "making step: 2011.9\n",
            "making step: 2011.10\n",
            "making step: 2011.11\n",
            "making step: 2011.12\n",
            "making step: 2012.1\n",
            "making step: 2012.2\n",
            "making step: 2012.3\n",
            "making step: 2012.4\n",
            "making step: 2012.5\n",
            "making step: 2012.6\n",
            "making step: 2012.7\n",
            "making step: 2012.8\n",
            "making step: 2012.9\n",
            "making step: 2012.10\n",
            "making step: 2012.11\n",
            "making step: 2012.12\n",
            "making step: 2013.1\n",
            "making step: 2013.2\n",
            "making step: 2013.3\n",
            "making step: 2013.4\n",
            "making step: 2013.5\n",
            "making step: 2013.6\n",
            "making step: 2013.7\n",
            "making step: 2013.8\n",
            "making step: 2013.9\n",
            "making step: 2013.10\n",
            "making step: 2013.11\n",
            "making step: 2013.12\n",
            "making step: 2014.1\n",
            "making step: 2014.2\n",
            "making step: 2014.3\n",
            "making step: 2014.4\n",
            "making step: 2014.5\n",
            "making step: 2014.6\n",
            "making step: 2014.7\n",
            "making step: 2014.8\n",
            "making step: 2014.9\n",
            "making step: 2014.10\n",
            "making step: 2014.11\n",
            "making step: 2014.12\n",
            "making step: 2015.1\n",
            "making step: 2015.2\n",
            "making step: 2015.3\n",
            "making step: 2015.4\n",
            "making step: 2015.5\n",
            "making step: 2015.6\n",
            "making step: 2015.7\n",
            "making step: 2015.8\n",
            "making step: 2015.9\n",
            "making step: 2015.10\n",
            "making step: 2015.11\n",
            "making step: 2015.12\n",
            "making step: 2016.1\n",
            "making step: 2016.2\n",
            "making step: 2016.3\n",
            "making step: 2016.4\n",
            "making step: 2016.5\n",
            "making step: 2016.6\n",
            "making step: 2016.7\n",
            "making step: 2016.8\n",
            "making step: 2016.9\n",
            "making step: 2016.10\n",
            "making step: 2016.11\n",
            "making step: 2016.12\n",
            "making step: 2017.1\n",
            "making step: 2017.2\n",
            "making step: 2017.3\n",
            "making step: 2017.4\n",
            "making step: 2017.5\n",
            "making step: 2017.6\n",
            "making step: 2017.7\n",
            "making step: 2017.8\n",
            "making step: 2017.9\n",
            "making step: 2017.10\n",
            "making step: 2017.11\n",
            "---> Episode * 5 * Avg Mean Reward is ==> 3365690.628 * Avg Total Reward is ==> 424077019.087\n"
          ]
        }
      ],
      "source": [
        "# Comment чтобы не потерять историю при переобучении\n",
        "# avg_reward_hist = []\n",
        "# sum_reward_hist = []\n",
        "# full_reward_hist = []\n",
        "\n",
        "for ep in range(5):\n",
        "    print('---> Episode {} starts'.format(ep+1))\n",
        "\n",
        "    ep_reward_hist = []\n",
        "    # reset environment\n",
        "    prev_state, reward, done, _ = env_train.reset()\n",
        "    \n",
        "    while True:\n",
        "        # Training loop\n",
        "\n",
        "        # 1 - convert\n",
        "        prev_state_arr = transformer.transform(prev_state)\n",
        "        # 2 - tensor\n",
        "        tf_prev_state = tf.convert_to_tensor(prev_state_arr)\n",
        "        # 3 - get policy\n",
        "        action = int( policy(tf_prev_state, train=True)[0] * max_score )\n",
        "        # 4 - Make a step. Recieve state and reward from environment\n",
        "        state, reward, done, _ = env_train.step( action  )\n",
        "        # 5 - convert state so that nn can understand it\n",
        "        state_arr = transformer.transform(state)\n",
        "        # 6 - write to buffer\n",
        "        buffer.record((prev_state_arr, action, reward, state_arr))\n",
        "        # 7 - save interation reward stats\n",
        "        ep_reward_hist.append(reward) \n",
        "        # 8 - learn\n",
        "        buffer.learn()\n",
        "        update_target(target_actor.variables, actor_model.variables, tau)\n",
        "        update_target(target_critic.variables, critic_model.variables, tau)\n",
        "        # 9.1 - End this episode when `done` is True\n",
        "        if done:\n",
        "            break\n",
        "        # 9.2 - otherwise, move forward in time\n",
        "        prev_state = state\n",
        "\n",
        "    avg_ep_reward = np.mean(ep_reward_hist)\n",
        "    sum_ep_reward = np.sum(ep_reward_hist)\n",
        "            \n",
        "    # save episode reward stats\n",
        "    avg_reward_hist.append(avg_ep_reward)\n",
        "    sum_reward_hist.append(sum_ep_reward)\n",
        "    full_reward_hist.append(ep_reward_hist)\n",
        "    \n",
        "    #################################################\n",
        "    ############ print debug information ############\n",
        "    #################################################\n",
        "    \n",
        "    print(\"---> Episode * {} * Avg Mean Reward is ==> {} * Avg Total Reward is ==> {}\"\\\n",
        "         .format(ep+1, np.round(avg_ep_reward, 3), np.round(sum_ep_reward, 3)))"
      ]
    },
    {
      "cell_type": "markdown",
      "source": [
        "Заметки:\n",
        "* 10 эпизодов - обучились, результат фигня;<br>График AR жмется к нулю - так быть не должно<br>Суммарный reward на train - `-358733604.7029213` - никуда не годится<br>Докинул еще 5 эпизодов на обучение;\n",
        "* 15 эпизодов - обучились, фигня на же;<br>График AR все еще жмется к нулю, но action уже выглядит поадекватнее, что внушает надежду<br>Суммарный reward на train ухудшился к 15 сессии - `-471481218.923`, но на 12 сессии показал оч крутой результат;<br>Докинул еще 5 эпизодов на обучение;\n",
        "* 20 эпизодов - продолжаем, накидываю еще 10 эпизодов;<br>Суммарный reward на train - `-260489351.70017582`;\n",
        "* 30 эпизодов - пробит и 0, и бэйзлайн на train!<br>Накидываем еще 5 эпизодов и смотрим, можно ли лучше<br>Суммарный reward на train - `424077019.0871624`;\n",
        "* 35 эпизодов - рекорд не превзошли, обучаться перестали; Фиксируем результат на 30 эпизодах и останавливаемся\n",
        "<br>Суммарный reward на train - `418698090.9763015`; Идем смотреть на test"
      ],
      "metadata": {
        "id": "Ua0W95GtK0LD"
      }
    },
    {
      "cell_type": "code",
      "execution_count": 164,
      "metadata": {
        "colab": {
          "base_uri": "https://localhost:8080/",
          "height": 0
        },
        "id": "eBRLdbgmlzfO",
        "outputId": "de4b093a-c064-413f-f0d5-c26790831e59"
      },
      "outputs": [
        {
          "output_type": "stream",
          "name": "stderr",
          "text": [
            "WARNING:tensorflow:Compiled the loaded model, but the compiled metrics have yet to be built. `model.compile_metrics` will be empty until you train or evaluate the model.\n",
            "WARNING:tensorflow:Compiled the loaded model, but the compiled metrics have yet to be built. `model.compile_metrics` will be empty until you train or evaluate the model.\n"
          ]
        }
      ],
      "source": [
        "actor_model.save('actor_model_v5.h5')\n",
        "critic_model.save('critic_model_v5.h5')"
      ]
    },
    {
      "cell_type": "code",
      "source": [
        "import matplotlib.pyplot as plt\n",
        "\n",
        "# Plotting graph\n",
        "# Episodes versus Avg. Rewards\n",
        "plt.figure(figsize=(16,4));\n",
        "plt.plot(sum_reward_hist);\n",
        "plt.axhline( 0, ls='--', color='orange' )\n",
        "plt.xlabel(\"Episode\")\n",
        "plt.ylabel(\"Total Epsiodic Reward\")\n",
        "plt.savefig('35epochs_episodes_vs_avgRewards.png', bbox_inches='tight')\n",
        "plt.show()"
      ],
      "metadata": {
        "colab": {
          "base_uri": "https://localhost:8080/",
          "height": 290
        },
        "id": "s5v-8GFk6sZG",
        "outputId": "e41a49d6-68d5-4090-9fd5-8233c6ef9910"
      },
      "execution_count": 176,
      "outputs": [
        {
          "output_type": "display_data",
          "data": {
            "text/plain": [
              "<Figure size 1152x288 with 1 Axes>"
            ],
            "image/png": "[encoded data removed]"
          },
          "metadata": {
            "needs_background": "light"
          }
        }
      ]
    },
    {
      "cell_type": "code",
      "execution_count": 185,
      "metadata": {
        "colab": {
          "base_uri": "https://localhost:8080/",
          "height": 290
        },
        "id": "hz5yTScBlzfO",
        "outputId": "1055890a-6cf2-4db0-a5c5-890b63a70675"
      },
      "outputs": [
        {
          "output_type": "display_data",
          "data": {
            "text/plain": [
              "<Figure size 1152x288 with 1 Axes>"
            ],
            "image/png": "[encoded data removed]"
          },
          "metadata": {
            "needs_background": "light"
          }
        }
      ],
      "source": [
        "import matplotlib.pyplot as plt\n",
        "\n",
        "# Plotting graph\n",
        "# Step versus Cum. Rewards\n",
        "plt.figure(figsize=(16,4));\n",
        "plt.plot( env_train.reward_hist, label='Reward' );\n",
        "plt.plot( np.cumsum(env_train.reward_hist), label='Cumulative Reward' );\n",
        "plt.axhline( benchmark_train, label='Baseline', color='red' )\n",
        "plt.axhline( 0, label='Zero', ls='--', color='orange' )\n",
        "plt.xlabel(\"Step\")\n",
        "plt.ylabel(\"Cumulative reward\")\n",
        "plt.legend()\n",
        "plt.savefig('35epochs_steps_vs_cumRewards.png', bbox_inches='tight')\n",
        "plt.show()"
      ]
    },
    {
      "cell_type": "code",
      "source": [
        "import matplotlib.pyplot as plt\n",
        "\n",
        "# Plotting graph\n",
        "# Steps versus State\n",
        "plt.figure(figsize=(16,4));\n",
        "plt.plot(env_train.state_hist);\n",
        "plt.xlabel(\"Step\")\n",
        "plt.ylabel(\"State\")\n",
        "plt.savefig('35epochs_steps_vs_states.png', bbox_inches='tight')\n",
        "plt.show()"
      ],
      "metadata": {
        "colab": {
          "base_uri": "https://localhost:8080/",
          "height": 279
        },
        "id": "IEFGiKZfqu12",
        "outputId": "a44eb425-24e4-4eb5-cbad-44c9307acc79"
      },
      "execution_count": 186,
      "outputs": [
        {
          "output_type": "display_data",
          "data": {
            "text/plain": [
              "<Figure size 1152x288 with 1 Axes>"
            ],
            "image/png": "[encoded data removed]"
          },
          "metadata": {
            "needs_background": "light"
          }
        }
      ]
    },
    {
      "cell_type": "code",
      "execution_count": 179,
      "metadata": {
        "colab": {
          "base_uri": "https://localhost:8080/",
          "height": 280
        },
        "id": "u-jXDk6ilzfO",
        "outputId": "644d1a36-10c2-45c1-af12-57c00f378bb3"
      },
      "outputs": [
        {
          "output_type": "display_data",
          "data": {
            "text/plain": [
              "<Figure size 1152x288 with 1 Axes>"
            ],
            "image/png": "[encoded data removed]"
          },
          "metadata": {
            "needs_background": "light"
          }
        }
      ],
      "source": [
        "import matplotlib.pyplot as plt\n",
        "\n",
        "# Plotting graph\n",
        "# Steps versus Actons\n",
        "plt.figure(figsize=(16,4));\n",
        "plt.plot(env_train.action_hist[1:], label='Action');\n",
        "plt.axhline(558, label='Best constant policy', color='orange')\n",
        "plt.gca().set_ylim([0, 609])\n",
        "plt.xlabel(\"Step\")\n",
        "plt.ylabel(\"Action\")\n",
        "plt.legend()\n",
        "plt.savefig('35epochs_steps_vs_actions.png', bbox_inches='tight')\n",
        "plt.show()"
      ]
    },
    {
      "cell_type": "code",
      "source": [
        "sum(env_train.reward_hist)\n",
        "\n",
        "# -1499517018.2941222\n",
        "# -1135815693.5728233\n",
        "#  -663798560.9239142  - buffer 1000 batch 128\n",
        "#  -565871890.5427336\n",
        "#  -439308004.0259305  - v1\n",
        "#  -386485924.8300973\n",
        "#  -367064192.41714287 - v3\n",
        "#  -279122913.44807124 - buffer 100 batch 32 - медленно\n",
        "#   418698090.9763015"
      ],
      "metadata": {
        "colab": {
          "base_uri": "https://localhost:8080/",
          "height": 0
        },
        "id": "RBS3ieX_0wsN",
        "outputId": "f8185dd8-a32c-477d-e8fd-47620e2eff02"
      },
      "execution_count": 181,
      "outputs": [
        {
          "output_type": "execute_result",
          "data": {
            "text/plain": [
              "424077019.0871624"
            ]
          },
          "metadata": {},
          "execution_count": 181
        }
      ]
    },
    {
      "cell_type": "markdown",
      "source": [
        "<h3>Смотрим на тест</h3>"
      ],
      "metadata": {
        "id": "Jy3rdVVAgXsD"
      }
    },
    {
      "cell_type": "code",
      "execution_count": 182,
      "metadata": {
        "colab": {
          "base_uri": "https://localhost:8080/",
          "height": 0
        },
        "id": "YSW2kMYWlzfP",
        "outputId": "8473e7f9-50c0-4a0e-bc30-ed968f1ca517"
      },
      "outputs": [
        {
          "output_type": "stream",
          "name": "stdout",
          "text": [
            "---> Episode 1 starts\n",
            "making step: 2018.1\n",
            "making step: 2018.2\n",
            "making step: 2018.3\n",
            "making step: 2018.4\n",
            "making step: 2018.5\n",
            "---> Episode 1 is over\n"
          ]
        }
      ],
      "source": [
        "for ep in range(1):\n",
        "    print('---> Episode {} starts'.format(ep+1))\n",
        "\n",
        "    ep_reward_hist = []\n",
        "    # reset environment\n",
        "    prev_state, reward, done, _ = env_test.reset(minYear=2018, minMonth=1)\n",
        "    \n",
        "    while True:\n",
        "        # Predict loop\n",
        "\n",
        "        # 1 - convert\n",
        "        prev_state_arr = transformer.transform(prev_state)\n",
        "        # 2 - tensor\n",
        "        tf_prev_state = tf.convert_to_tensor(prev_state_arr)\n",
        "        # 3 - get policy\n",
        "        action = int( policy(tf_prev_state, train=False)[0] * max_score )\n",
        "        # 4 - Make a step. Recieve state and reward from environment\n",
        "        state, reward, done, _ = env_test.step( action  )\n",
        "        # 5 - save interation reward stats\n",
        "        ep_reward_hist.append(reward) \n",
        "        # 6.1 - End this episode when `done` is True\n",
        "        if done:\n",
        "            break\n",
        "        # 6.2 - otherwise, move forward in time\n",
        "        prev_state = state\n",
        "    \n",
        "    #################################################\n",
        "    ############ print debug information ############\n",
        "    #################################################\n",
        "    \n",
        "    print(\"---> Episode {} is over\".format(ep+1))"
      ]
    },
    {
      "cell_type": "code",
      "source": [
        "import matplotlib.pyplot as plt\n",
        "\n",
        "# Plotting graph\n",
        "# Step versus Cum. Rewards\n",
        "plt.figure(figsize=(16,4));\n",
        "plt.plot( env_test.reward_hist, label='Reward' );\n",
        "plt.plot( np.cumsum(env_test.reward_hist), label='Cumulative Reward' );\n",
        "plt.axhline( benchmark_test, label='Baseline', color='red' )\n",
        "plt.axhline( 0, label='Zero', ls='--', color='orange' )\n",
        "plt.xlabel(\"Step\")\n",
        "plt.ylabel(\"Cumulative reward\")\n",
        "plt.legend()\n",
        "plt.savefig('test_steps_vs_cumRewards.png', bbox_inches='tight')\n",
        "plt.show()"
      ],
      "metadata": {
        "colab": {
          "base_uri": "https://localhost:8080/",
          "height": 290
        },
        "id": "2hGOS5SNh_BN",
        "outputId": "44c9d30b-4c5c-419a-bc47-29dc3508fe47"
      },
      "execution_count": 187,
      "outputs": [
        {
          "output_type": "display_data",
          "data": {
            "text/plain": [
              "<Figure size 1152x288 with 1 Axes>"
            ],
            "image/png": "[encoded data removed]"
          },
          "metadata": {
            "needs_background": "light"
          }
        }
      ]
    },
    {
      "cell_type": "code",
      "source": [
        "import matplotlib.pyplot as plt\n",
        "\n",
        "# Plotting graph\n",
        "# Steps versus State\n",
        "plt.figure(figsize=(16,4));\n",
        "plt.plot(env_test.state_hist);\n",
        "plt.xlabel(\"Step\")\n",
        "plt.ylabel(\"State\")\n",
        "plt.savefig('test_steps_vs_states.png', bbox_inches='tight')\n",
        "plt.show()"
      ],
      "metadata": {
        "colab": {
          "base_uri": "https://localhost:8080/",
          "height": 279
        },
        "id": "zD2_VXf7iM2I",
        "outputId": "ef0a53c9-61d1-4935-a4bc-9e8953d3553b"
      },
      "execution_count": 188,
      "outputs": [
        {
          "output_type": "display_data",
          "data": {
            "text/plain": [
              "<Figure size 1152x288 with 1 Axes>"
            ],
            "image/png": "[encoded data removed]"
          },
          "metadata": {
            "needs_background": "light"
          }
        }
      ]
    },
    {
      "cell_type": "code",
      "source": [
        "import matplotlib.pyplot as plt\n",
        "\n",
        "# Plotting graph\n",
        "# Steps versus Actons\n",
        "plt.figure(figsize=(16,4));\n",
        "plt.plot(env_test.action_hist[1:], label='Action');\n",
        "plt.axhline(558, label='Best constant policy', color='orange')\n",
        "plt.xlabel(\"Step\")\n",
        "plt.ylabel(\"Action\")\n",
        "plt.legend()\n",
        "plt.savefig('test_steps_vs_actions.png', bbox_inches='tight')\n",
        "plt.show()"
      ],
      "metadata": {
        "colab": {
          "base_uri": "https://localhost:8080/",
          "height": 279
        },
        "id": "HmFcvKTviYSP",
        "outputId": "582c7e95-f470-4650-cff0-9b03de4c445e"
      },
      "execution_count": 190,
      "outputs": [
        {
          "output_type": "display_data",
          "data": {
            "text/plain": [
              "<Figure size 1152x288 with 1 Axes>"
            ],
            "image/png": "[encoded data removed]"
          },
          "metadata": {
            "needs_background": "light"
          }
        }
      ]
    },
    {
      "cell_type": "code",
      "source": [
        "print(f'''\n",
        "На test:\n",
        "    model\\t{sum(env_train.reward_hist)}\n",
        "    baseline\\t{benchmark_test}\n",
        "    ---\n",
        "    diff\\t{sum(env_train.reward_hist) - benchmark_test}\n",
        "''')"
      ],
      "metadata": {
        "colab": {
          "base_uri": "https://localhost:8080/",
          "height": 0
        },
        "id": "00-sRTjIi5U_",
        "outputId": "b8b452ef-f590-4272-e7ec-4c702c8c7399"
      },
      "execution_count": 191,
      "outputs": [
        {
          "output_type": "stream",
          "name": "stdout",
          "text": [
            "\n",
            "На test:\n",
            "    model\t424077019.0871624\n",
            "    baseline\t112058233.81855965\n",
            "    ---\n",
            "    diff\t312018785.2686027\n",
            "\n"
          ]
        }
      ]
    },
    {
      "cell_type": "code",
      "source": [],
      "metadata": {
        "id": "LCkeBGQhjqSB"
      },
      "execution_count": null,
      "outputs": []
    }
  ],
  "metadata": {
    "kernelspec": {
      "display_name": "Python 3 (ipykernel)",
      "language": "python",
      "name": "python3"
    },
    "language_info": {
      "codemirror_mode": {
        "name": "ipython",
        "version": 3
      },
      "file_extension": ".py",
      "mimetype": "text/x-python",
      "name": "python",
      "nbconvert_exporter": "python",
      "pygments_lexer": "ipython3",
      "version": "3.9.12"
    },
    "colab": {
      "provenance": [],
      "collapsed_sections": []
    }
  },
  "nbformat": 4,
  "nbformat_minor": 0
}